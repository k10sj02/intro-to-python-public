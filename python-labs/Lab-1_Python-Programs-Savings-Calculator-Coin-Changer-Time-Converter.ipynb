{
 "cells": [
  {
   "cell_type": "code",
   "execution_count": 1,
   "metadata": {},
   "outputs": [
    {
     "data": {
      "text/plain": [
       "'1- Pretend that you have just opened a new savings account that earns 4 percent interest per year. The\\ninterest that you earn is paid at the end of the year, and is added to the balance of the savings account.\\nWrite a program that begins by reading the amount of money deposited into the account from the user.\\nThen your program should compute and display the amount in the savings account after 1, 2, and 3\\nyears. Display each amount so that it is rounded to 2 decimal places.'"
      ]
     },
     "execution_count": 1,
     "metadata": {},
     "output_type": "execute_result"
    }
   ],
   "source": [
    "'''1- Pretend that you have just opened a new savings account that earns 4 percent interest per year. The\n",
    "interest that you earn is paid at the end of the year, and is added to the balance of the savings account.\n",
    "Write a program that begins by reading the amount of money deposited into the account from the user.\n",
    "Then your program should compute and display the amount in the savings account after 1, 2, and 3\n",
    "years. Display each amount so that it is rounded to 2 decimal places.'''"
   ]
  },
  {
   "cell_type": "code",
   "execution_count": 2,
   "metadata": {},
   "outputs": [
    {
     "name": "stdout",
     "output_type": "stream",
     "text": [
      "Welcome to your SenecaBank savings account. \n",
      " \n",
      "How much would you like to deposit? : 20\n",
      "Deposit successful. Your account has a 4% annual interest rate. Your projected savings growth is: \t \n",
      "\n",
      "    Your current balance: $20.80 \n",
      "    After 1 year: $20.80 \n",
      "    After 2 years: $21.63\n",
      "    After 3 years: $22.50\n",
      "    \n",
      "Thank you for choosing SenecaBank. Have a nice day!\n"
     ]
    }
   ],
   "source": [
    "dep_amt = int(input(\"Welcome to your SenecaBank savings account. \\n \\nHow much would you like to deposit? : \"))\n",
    "\n",
    "interest_rate = 0.04\n",
    "one_year_principal = (dep_amt * interest_rate)+dep_amt\n",
    "one_year_principal_dep = \"${:.2f}\".format(one_year_principal)\n",
    "one_year_principal_rounded = \"${:.2f}\".format(one_year_principal)\n",
    "two_year_principal = (one_year_principal * interest_rate)+one_year_principal\n",
    "two_year_principal_rounded = \"${:.2f}\".format(two_year_principal)\n",
    "three_year_principal = (two_year_principal * interest_rate)+two_year_principal\n",
    "three_year_principal_rounded = \"${:.2f}\".format(three_year_principal)\n",
    "\n",
    "if dep_amt <= 0:\n",
    "    print(\"Please deposit an amount greater than 0.\")\n",
    "else: \n",
    "    print(f'''Deposit successful. Your account has a 4% annual interest rate. Your projected savings growth is: \\t \\n\n",
    "    Your current balance: {one_year_principal_dep} \n",
    "    After 1 year: {one_year_principal_rounded} \n",
    "    After 2 years: {two_year_principal_rounded}\n",
    "    After 3 years: {three_year_principal_rounded}\n",
    "    \n",
    "Thank you for choosing SenecaBank. Have a nice day!''')"
   ]
  },
  {
   "cell_type": "code",
   "execution_count": 3,
   "metadata": {},
   "outputs": [
    {
     "data": {
      "text/plain": [
       "'2- Consider the software that runs on a self-checkout machine.\\nOne task that it must be able to perform is to determine how much change \\nto provide when the shopper pays for a purchase with cash. Write a program \\nthat begins by reading a number of cents from the user as an integer. \\nThen your program should compute and display the denominations of the coins \\nthat should be used to give that amount of change to the shopper. \\nThe change should be given using as few coins as possible. \\nAssume that the machine is loaded with pennies, nickels, \\ndimes, quarters, loonies and toonies.'"
      ]
     },
     "execution_count": 3,
     "metadata": {},
     "output_type": "execute_result"
    }
   ],
   "source": [
    "'''2- Consider the software that runs on a self-checkout machine.\n",
    "One task that it must be able to perform is to determine how much change \n",
    "to provide when the shopper pays for a purchase with cash. Write a program \n",
    "that begins by reading a number of cents from the user as an integer. \n",
    "Then your program should compute and display the denominations of the coins \n",
    "that should be used to give that amount of change to the shopper. \n",
    "The change should be given using as few coins as possible. \n",
    "Assume that the machine is loaded with pennies, nickels, \n",
    "dimes, quarters, loonies and toonies.'''"
   ]
  },
  {
   "cell_type": "code",
   "execution_count": 4,
   "metadata": {
    "scrolled": false
   },
   "outputs": [
    {
     "name": "stdout",
     "output_type": "stream",
     "text": [
      "Thank you for shopping at Seneca Mart.\n",
      "\n",
      "How much change is required? Please input an amount \n",
      "in cents: 2000\n",
      "\n",
      "The following coins will be dispensed:\n",
      "Toonies: 10\n",
      "Loonies: 0\n",
      "Quarters: 0\n",
      "Dimes: 0\n",
      "Nickels: 0\n",
      "Pennies: 0\n",
      "\n",
      "You will receive 10 coins in total. Have a nice day!\n"
     ]
    }
   ],
   "source": [
    "cents = int(input(f'''Thank you for shopping at Seneca Mart.\n",
    "\n",
    "How much change is required? Please input an amount \n",
    "in cents: '''))\n",
    "\n",
    "num_toonies = cents // 200\n",
    "num_loonies = (cents % 200) // 100\n",
    "num_quarters = (cents % 200 % 100) // 25\n",
    "num_dimes = (cents % 200 % 100 % 25) // 10\n",
    "num_nickels = (cents % 200 % 100 % 25 % 10) // 5\n",
    "num_pennies = (cents % 200 % 100 % 25 % 10 % 5)\n",
    "coincount = num_toonies + num_loonies + num_quarters + num_dimes + num_nickels + num_pennies\n",
    "\n",
    "\"If change equals 0 then, exit\"\n",
    "\n",
    "if cents <= 0:\n",
    "    print(\"Please deposit an amount greater than 0.\")\n",
    "    exit()\n",
    "elif cents == 1:\n",
    "    print(\"\\nThe following coins will be dispensed:\")\n",
    "    print(f\"Toonies: {num_toonies}\")\n",
    "    print(f\"Loonies: {num_loonies}\")\n",
    "    print(f\"Quarters: {num_quarters}\")\n",
    "    print(f\"Dimes: {num_dimes}\")\n",
    "    print(f\"Nickels: {num_nickels}\")\n",
    "    print(f\"Pennies: {num_pennies}\")  \n",
    "    print(f\"\\nYou will receive {coincount} coin in total. Have a nice day!\")\n",
    "elif cents > 1:\n",
    "    print(\"\\nThe following coins will be dispensed:\")\n",
    "    print(f\"Toonies: {num_toonies}\")\n",
    "    print(f\"Loonies: {num_loonies}\")\n",
    "    print(f\"Quarters: {num_quarters}\")\n",
    "    print(f\"Dimes: {num_dimes}\")\n",
    "    print(f\"Nickels: {num_nickels}\")\n",
    "    print(f\"Pennies: {num_pennies}\")  \n",
    "    print(f\"\\nYou will receive {coincount} coins in total. Have a nice day!\")"
   ]
  },
  {
   "cell_type": "code",
   "execution_count": 5,
   "metadata": {},
   "outputs": [
    {
     "data": {
      "text/plain": [
       "'Develop a program that begins by reading a number of seconds from the user. \\nThen your program should display the equivalent amount of time in the form D:HH:MM:SS, \\nwhere D, HH, MM, and SS represent days, hours, minutes and seconds respectively. \\nThe hours, minutes and seconds should all be \\nformatted so that they occupy exactly two digits, \\nwith a leading 0 displayed if necessary.'"
      ]
     },
     "execution_count": 5,
     "metadata": {},
     "output_type": "execute_result"
    }
   ],
   "source": [
    "'''Develop a program that begins by reading a number of seconds from the user. \n",
    "Then your program should display the equivalent amount of time in the form D:HH:MM:SS, \n",
    "where D, HH, MM, and SS represent days, hours, minutes and seconds respectively. \n",
    "The hours, minutes and seconds should all be \n",
    "formatted so that they occupy exactly two digits, \n",
    "with a leading 0 displayed if necessary.'''"
   ]
  },
  {
   "cell_type": "code",
   "execution_count": 6,
   "metadata": {},
   "outputs": [
    {
     "name": "stdout",
     "output_type": "stream",
     "text": [
      "Welcome to the seconds calculator.\n",
      " \n",
      "Please enter a number of seconds you would like to \n",
      "convert to D:HH:MM:SS format: 5000000000\n",
      "\n",
      "5000000000 seconds is 57870:08:53:20\n",
      "\n",
      "That's over a century!\n"
     ]
    }
   ],
   "source": [
    "time = int(input(\n",
    "    f'''Welcome to the seconds calculator.\\n \n",
    "Please enter a number of seconds you would like to \n",
    "convert to D:HH:MM:SS format: '''))\n",
    "if time <= 0:\n",
    "    print(\"Please enter more than 0 seconds.\") \n",
    "    exit()\n",
    "\n",
    "day     = time // (24 * 3600) \n",
    "hour    = (time // 3600) % 24\n",
    "minutes = (time // 60) % 60\n",
    "seconds = time % 60\n",
    "\n",
    "print(f\"\\n{time} seconds is %d:%02d:%02d:%02d\" % (day, hour, minutes, seconds))\n",
    "\n",
    "if time > 3155695200:\n",
    "    print(\"\\nThat's over a century!\")\n",
    "elif time > 315569520:\n",
    "    print(\"\\nThat's over a decade!\")\n",
    "elif time > 31556952:\n",
    "    print(\"\\nThat's over a year!\")\n",
    "elif time > 2629746:\n",
    "    print(\"\\nThat's over a month!\")\n",
    "elif time > 604800:\n",
    "    print(\"\\nThat's over a week!\")\n",
    "elif time > 1800:\n",
    "    print(\"\\nThat's over half an hour!\")\n",
    "elif time < 300:\n",
    "    print(\"\\nThat's a few minutes!\")"
   ]
  },
  {
   "cell_type": "code",
   "execution_count": null,
   "metadata": {},
   "outputs": [],
   "source": []
  }
 ],
 "metadata": {
  "kernelspec": {
   "display_name": "Python 3",
   "language": "python",
   "name": "python3"
  },
  "language_info": {
   "codemirror_mode": {
    "name": "ipython",
    "version": 3
   },
   "file_extension": ".py",
   "mimetype": "text/x-python",
   "name": "python",
   "nbconvert_exporter": "python",
   "pygments_lexer": "ipython3",
   "version": "3.7.6"
  }
 },
 "nbformat": 4,
 "nbformat_minor": 4
}
