{
 "cells": [
  {
   "cell_type": "code",
   "execution_count": 1,
   "metadata": {
    "scrolled": true
   },
   "outputs": [
    {
     "name": "stdout",
     "output_type": "stream",
     "text": [
      "Celsius\t | Fahrenheit\n",
      "0\t | 32.0\n",
      "10\t | 50.0\n",
      "20\t | 68.0\n",
      "30\t | 86.0\n",
      "40\t | 104.0\n",
      "50\t | 122.0\n",
      "60\t | 140.0\n",
      "70\t | 158.0\n",
      "80\t | 176.0\n",
      "90\t | 194.0\n",
      "100\t | 212.0\n"
     ]
    }
   ],
   "source": [
    "print(\"Celsius\\t | Fahrenheit\")\n",
    "for c in range(-10, 91, 10):\n",
    "    c = c + 10\n",
    "    fahrenheit = (c * 9/5) + 32\n",
    "    print(f'''{c}\\t | {fahrenheit}''')"
   ]
  },
  {
   "cell_type": "code",
   "execution_count": 2,
   "metadata": {},
   "outputs": [
    {
     "name": "stdout",
     "output_type": "stream",
     "text": [
      "Approximation 1 = 3.1666666666666665\n",
      "Approximation 2 = 3.1333333333333333\n",
      "Approximation 3 = 3.145238095238095\n",
      "Approximation 4 = 3.1396825396825396\n",
      "Approximation 5 = 3.1427128427128426\n",
      "Approximation 6 = 3.1408813408813407\n",
      "Approximation 7 = 3.142071817071817\n",
      "Approximation 8 = 3.1412548236077646\n",
      "Approximation 9 = 3.141839618929402\n",
      "Approximation 10 = 3.1414067184965018\n",
      "Approximation 11 = 3.1417360992606653\n",
      "Approximation 12 = 3.141479689004255\n",
      "Approximation 13 = 3.1416831892077552\n",
      "Approximation 14 = 3.1415189855952756\n",
      "Approximation 15 = 3.141653394197426\n"
     ]
    }
   ],
   "source": [
    "pi_approx = 0\n",
    "count = 1\n",
    "\n",
    "for term in range(16):\n",
    "    if term == 0:\n",
    "        continue\n",
    "        pi_approx += 3\n",
    "    else:\n",
    "        sign = (-1)**(term+1)\n",
    "        d = 2*term\n",
    "        den = (d)*(d+1)*(d+2)\n",
    "        pi_approx += (sign)*(4/den)\n",
    "        count = count + 1\n",
    "    print(f'Approximation {count - 1} = {pi_approx + 3}')"
   ]
  },
  {
   "cell_type": "code",
   "execution_count": null,
   "metadata": {},
   "outputs": [],
   "source": []
  }
 ],
 "metadata": {
  "kernelspec": {
   "display_name": "Python 3",
   "language": "python",
   "name": "python3"
  },
  "language_info": {
   "codemirror_mode": {
    "name": "ipython",
    "version": 3
   },
   "file_extension": ".py",
   "mimetype": "text/x-python",
   "name": "python",
   "nbconvert_exporter": "python",
   "pygments_lexer": "ipython3",
   "version": "3.7.6"
  }
 },
 "nbformat": 4,
 "nbformat_minor": 4
}
