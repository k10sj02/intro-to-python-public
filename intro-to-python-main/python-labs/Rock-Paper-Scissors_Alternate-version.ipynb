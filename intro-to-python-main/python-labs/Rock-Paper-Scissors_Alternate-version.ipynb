{
 "cells": [
  {
   "cell_type": "code",
   "execution_count": 1,
   "metadata": {},
   "outputs": [
    {
     "name": "stdout",
     "output_type": "stream",
     "text": [
      "rock...\n",
      "paper...\n",
      "scissors...\n",
      "(Enter your choice: )rock\n",
      "rock\n",
      "It's a tie!\n",
      "(Enter your choice: )rock\n",
      "scissors\n",
      "human wins!\n",
      "(Enter your choice: )rock\n",
      "rock\n",
      "It's a tie!\n",
      "(Enter your choice: )rock\n",
      "scissors\n",
      "human wins!\n",
      "(Enter your choice: )land\n",
      "paper\n",
      "Something went wrong.\n",
      "(Enter your choice: )scissors\n",
      "scissors\n",
      "It's a tie!\n",
      "(Enter your choice: )paper\n",
      "scissors\n",
      "computer wins!\n",
      "(Enter your choice: )paper\n",
      "paper\n",
      "It's a tie!\n",
      "(Enter your choice: )rock\n",
      "scissors\n",
      "human wins!\n",
      "Final Scores:\n",
      "Human: 3\n",
      "Computer: 1\n"
     ]
    }
   ],
   "source": [
    "import random\n",
    "\n",
    "print(\"rock...\")\n",
    "print(\"paper...\")\n",
    "print(\"scissors...\")\n",
    "\n",
    "RPS_list = [\"rock\", \"paper\", \"scissors\"]\n",
    "human_wins = 0\n",
    "computer_wins = 0\n",
    "total_wins = 3\n",
    "\n",
    "while human_wins < total_wins and computer_wins < total_wins:\n",
    "    human = input(\"(Enter your choice: )\").lower()\n",
    "    computer = random.choice(RPS_list)\n",
    "    print(computer)\n",
    "\n",
    "    if human == \"rock\" and computer == \"scissors\":\n",
    "        human_wins += 1\n",
    "        print(\"human wins!\")\n",
    "    elif human == \"rock\" and computer == \"paper\":\n",
    "        computer_wins += 1\n",
    "        print(\"computer wins!\")\n",
    "    elif human == \"paper\" and computer == \"rock\":\n",
    "        human_wins += 1\n",
    "        print(\"human wins!\")\n",
    "    elif human == \"paper\" and computer == \"scissors\":\n",
    "        computer_wins += 1\n",
    "        print(\"computer wins!\")\n",
    "    elif human == \"scissors\" and computer == \"rock\":\n",
    "        computer_wins += 1\n",
    "        print(\"computer wins!\")\n",
    "    elif human == \"scissors\" and computer == \"paper\":\n",
    "        human_wins += 1\n",
    "        print(\"human wins!\")\n",
    "    elif human == computer:\n",
    "        print(\"It's a tie!\")\n",
    "    else:\n",
    "        print(\"Something went wrong.\")\n",
    "\n",
    "print(\"Final Scores:\")\n",
    "print(\"Human:\", human_wins)\n",
    "print(\"Computer:\", computer_wins)"
   ]
  },
  {
   "cell_type": "code",
   "execution_count": null,
   "metadata": {},
   "outputs": [],
   "source": []
  }
 ],
 "metadata": {
  "kernelspec": {
   "display_name": "Python 3",
   "language": "python",
   "name": "python3"
  },
  "language_info": {
   "codemirror_mode": {
    "name": "ipython",
    "version": 3
   },
   "file_extension": ".py",
   "mimetype": "text/x-python",
   "name": "python",
   "nbconvert_exporter": "python",
   "pygments_lexer": "ipython3",
   "version": "3.7.6"
  }
 },
 "nbformat": 4,
 "nbformat_minor": 4
}
